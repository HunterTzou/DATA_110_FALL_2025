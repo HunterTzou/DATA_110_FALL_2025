{
  "nbformat": 4,
  "nbformat_minor": 0,
  "metadata": {
    "colab": {
      "provenance": [],
      "authorship_tag": "ABX9TyM6r56roJbgvKFIvFLRw+Rf",
      "include_colab_link": true
    },
    "kernelspec": {
      "name": "python3",
      "display_name": "Python 3"
    },
    "language_info": {
      "name": "python"
    }
  },
  "cells": [
    {
      "cell_type": "markdown",
      "metadata": {
        "id": "view-in-github",
        "colab_type": "text"
      },
      "source": [
        "<a href=\"https://colab.research.google.com/github/Zhouhun/DATA_110_FALL_2025/blob/main/Test%20File.ipynb\" target=\"_parent\"><img src=\"https://colab.research.google.com/assets/colab-badge.svg\" alt=\"Open In Colab\"/></a>"
      ]
    },
    {
      "cell_type": "code",
      "execution_count": 3,
      "metadata": {
        "colab": {
          "base_uri": "https://localhost:8080/"
        },
        "id": "-p7JRr4h4tUd",
        "outputId": "abf8e6eb-4a23-4c25-ff41-d4a983c282c6"
      },
      "outputs": [
        {
          "output_type": "stream",
          "name": "stdout",
          "text": [
            "Fuck you\n"
          ]
        }
      ],
      "source": [
        "print(\"Hi there!\") ## This is a test"
      ]
    },
    {
      "cell_type": "markdown",
      "source": [
        "Hello, Megan!\n",
        "\n",
        "I would be interested in the job opportunity if it is still available! I believe that I am more than qualified for this position as I have extensive Excel, Sharepoint, and Power BI experience"
      ],
      "metadata": {
        "id": "VOOXG5K153pP"
      }
    }
  ]
}