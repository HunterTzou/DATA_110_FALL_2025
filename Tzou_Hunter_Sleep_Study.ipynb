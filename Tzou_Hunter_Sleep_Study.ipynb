{
  "nbformat": 4,
  "nbformat_minor": 0,
  "metadata": {
    "colab": {
      "provenance": [],
      "authorship_tag": "ABX9TyPtiAb7Y+UnfQifR+HWIiNR",
      "include_colab_link": true
    },
    "kernelspec": {
      "name": "python3",
      "display_name": "Python 3"
    },
    "language_info": {
      "name": "python"
    }
  },
  "cells": [
    {
      "cell_type": "markdown",
      "metadata": {
        "id": "view-in-github",
        "colab_type": "text"
      },
      "source": [
        "<a href=\"https://colab.research.google.com/github/HunterTzou/DATA_110_FALL_2025/blob/main/Tzou_Hunter_Sleep_Study.ipynb\" target=\"_parent\"><img src=\"https://colab.research.google.com/assets/colab-badge.svg\" alt=\"Open In Colab\"/></a>"
      ]
    },
    {
      "cell_type": "code",
      "execution_count": null,
      "metadata": {
        "id": "p_fwmwJWG5b6"
      },
      "outputs": [],
      "source": [
        "import pandas as pd\n",
        "import numpy as np\n",
        "import seaborn as sns\n",
        "import matplotlib.pyplot as plt\n",
        "from sklearn.preprocessing import StandardScaler\n",
        "from sklearn.preprocessing import MinMaxScaler\n",
        "\n",
        "df = pd.read_csv('https://raw.githubusercontent.com/Zhouhun/DATA_110_FALL_2025/refs/heads/main/Sleep_health_and_lifestyle_dataset.csv')\n",
        "\n",
        "## AI Acknowledgement: I had Chat GPT give me a color pallete\n",
        "\n",
        "sleep_palette = [\n",
        "    '#4C72B0',  # Deep royal blue (bold)\n",
        "    '#6A5ACD',  # Vibrant violet-blue (bold)\n",
        "    '#C5B4E3',  # Soft lavender\n",
        "    '#A8C5E2',  # Pastel sky blue\n",
        "    '#9D81BA',  # Muted purple highlight\n",
        "    '#DCE3F2'   # Pale gray-blue (neutral)\n",
        "]"
      ]
    },
    {
      "cell_type": "markdown",
      "source": [
        "![image.png](data:image/png;base64,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)"
      ],
      "metadata": {
        "id": "n19JT34rfdhF"
      }
    },
    {
      "cell_type": "markdown",
      "source": [
        "## Introduction\n",
        "\n",
        "Sleep is one of the most important components of our lives and one which is often neglected. I believe that we could all practice better sleep hygiene and by studying this dataset, I am hoping that we might be able to improve our sleep.<br><br> The [ODPHP's website](https://odphp.health.gov/myhealthfinder/healthy-living/mental-health-and-relationships/get-enough-sleep#:~:text=Get%20sick%20less%20often,sleep%20tips%20to%20help%20you:) says that we could see the following benefits from getting more sleep:\n",
        "- Get sick less often\n",
        "- Stay at a healthy weight\n",
        "- Lower your risk for serious health problems, like diabetes and heart disease\n",
        "- Reduce stress, improve your mood, and get along better with people\n",
        "- Think more clearly, form long-term memories, and do better in school and at work\n",
        "- Make good decisions and avoid injuries — for example, drowsy drivers cause thousands of car accidents every year<br><br>\n",
        "\n",
        "Due to experiencing some of the negative side effects of chronic sleep deprevation, I wanted to study the different lifestyle components which could affect our sleep."
      ],
      "metadata": {
        "id": "EXNogB4Dc1MV"
      }
    },
    {
      "cell_type": "markdown",
      "source": [
        "## Data Set Introduction\n",
        "\n",
        "This data set was picked from [Kaggle](https://www.kaggle.com/datasets/uom190346a/sleep-health-and-lifestyle-dataset/data). I picked this dataset because I am interested in sleep studies and how different health and lifestlye vairables can affect sleep quality. I also saw that this data set had enough depth for me to use for this project.\n",
        "\n",
        "### Data Dictionary & Definitions\n",
        "\n",
        "| **Column Name** | **Description** |\n",
        "|------------------|-----------------|\n",
        "| `Person ID` | Unique identifier for each individual. |\n",
        "| `Gender` | Gender of the person (`Male` or `Female`). |\n",
        "| `Age` | Age of the person in years. |\n",
        "| `Occupation` | Occupation or profession of the person. |\n",
        "| `Sleep Duration (hours)` | Number of hours the person sleeps per day. |\n",
        "| `Quality of Sleep (scale: 1-10)` | Subjective rating of sleep quality, ranging from 1 (poor) to 10 (excellent). |\n",
        "| `Physical Activity Level (minutes/day)` | Number of minutes the person engages in physical activity daily. |\n",
        "| `Stress Level (scale: 1-10)` | Subjective rating of stress level, ranging from 1 (low) to 10 (high). |\n",
        "| `BMI Category` | Body Mass Index category (`Underweight`, `Normal`, `Overweight`). |\n",
        "| `Blood Pressure (systolic/diastolic)` | Blood pressure measurement in systolic/diastolic format (e.g., 120/80). |\n",
        "| `Heart Rate (bpm)` | Resting heart rate of the person, measured in beats per minute. |\n",
        "| `Daily Steps` | Number of steps the person takes per day. |\n",
        "| `Sleep Disorder` [^1] | Indicates whether the person has a sleep disorder (`None`, `Insomnia`, `Sleep Apnea`).|\n",
        "<br><br>\n",
        "\n",
        "[^1]: *Details about `Sleep Disorder` Column*:\n",
        "- `None`: The individual does not exhibit any specific sleep disorder.\n",
        "- `Insomnia`: The individual experiences difficulty falling asleep or staying asleep, leading to inadequate or poor-quality sleep.\n",
        "- `Sleep Apnea`: The individual suffers from pauses in breathing during sleep, resulting in disrupted sleep patterns and potential health risks. <br><br>\n",
        "\n",
        "According to the [ODPHP's website](https://odphp.health.gov/myhealthfinder/healthy-living/mental-health-and-relationships/get-enough-sleep#:~:text=Get%20sick%20less%20often,sleep%20tips%20to%20help%20you:), Adults need a minumum of 7 hours of good quality sleep. We will define good quality of sleep as above 5. anything below this standard is defined as inadequete sleep.\n",
        "\n",
        "### Possible Data Set Short-Comings\n",
        "\n",
        "Based on the [ODPHP's website](https://odphp.health.gov/myhealthfinder/healthy-living/mental-health-and-relationships/get-enough-sleep#:~:text=Get%20sick%20less%20often,sleep%20tips%20to%20help%20you:), Sleep schedule is an important factor in both the quality of sleep and the benefits we receive. This is missing from this dataset, so I think that would be something to add to make it more robust."
      ],
      "metadata": {
        "id": "d83gcJ8iJZ_6"
      }
    },
    {
      "cell_type": "markdown",
      "source": [
        "## Exploratory Data Analysis\n",
        "\n",
        "### Check General Structure"
      ],
      "metadata": {
        "id": "gLn_9XmPIqL1"
      }
    },
    {
      "cell_type": "code",
      "source": [
        "df.shape"
      ],
      "metadata": {
        "id": "sd9RaEFTIwQj"
      },
      "execution_count": null,
      "outputs": []
    },
    {
      "cell_type": "code",
      "source": [
        "df.head(10)"
      ],
      "metadata": {
        "id": "sMo4mxjpR0f9"
      },
      "execution_count": null,
      "outputs": []
    },
    {
      "cell_type": "code",
      "source": [
        "df.info()"
      ],
      "metadata": {
        "id": "PI5sZFndR55F"
      },
      "execution_count": null,
      "outputs": []
    },
    {
      "cell_type": "markdown",
      "source": [
        "All of the data types look correct to me, but it looks like there are 155 null values in `Sleep Disorder`. After looking at the csv. file, it looks like python is reading \"None\" as null values. I am going to try to replace them here with 'None' so I have values there. [^2]\n",
        "\n",
        "[^2]: I learned this from ChatGPT since I did not know how to replace null values in a systematic way"
      ],
      "metadata": {
        "id": "3uJIeRJlSAQF"
      }
    },
    {
      "cell_type": "code",
      "source": [
        "df['Sleep Disorder'] = df['Sleep Disorder'].fillna('None')\n",
        "\n",
        "## Check to make sure that it was actually filled\n",
        "\n",
        "df.info()"
      ],
      "metadata": {
        "id": "ykjzzaqJTxZ3"
      },
      "execution_count": null,
      "outputs": []
    },
    {
      "cell_type": "markdown",
      "source": [
        "I want to be able to check to make sure that the Person ID column is unique otherwise I think that will cause issues down the road."
      ],
      "metadata": {
        "id": "b85KMbQPWLRK"
      }
    },
    {
      "cell_type": "code",
      "source": [
        "df['Person ID'].is_unique"
      ],
      "metadata": {
        "id": "PZmzmLCXVdSB"
      },
      "execution_count": null,
      "outputs": []
    },
    {
      "cell_type": "markdown",
      "source": [
        "Next I wanted to check the `object` columns (`Gender`, `Occupation`, `BMI Category`, and `Sleep Disorder`) to make sure that they have normalized values. I left out blood pressue on purpose because I am planning on altering that later on. I am also adding an age category to help with analysis down the line."
      ],
      "metadata": {
        "id": "JQqYQOcb5PAx"
      }
    },
    {
      "cell_type": "code",
      "source": [
        "#Check the values which are returned by Gender\n",
        "\n",
        "print(df['Gender'].unique())"
      ],
      "metadata": {
        "id": "arc4nsF-6A7n"
      },
      "execution_count": null,
      "outputs": []
    },
    {
      "cell_type": "code",
      "source": [
        "#Check the unique values which are returned by Occupation\n",
        "\n",
        "print(df['Occupation'].unique())"
      ],
      "metadata": {
        "id": "RKBDezFt6I2w"
      },
      "execution_count": null,
      "outputs": []
    },
    {
      "cell_type": "code",
      "source": [],
      "metadata": {
        "id": "5YXlFk6C9WZj"
      },
      "execution_count": null,
      "outputs": []
    },
    {
      "cell_type": "code",
      "source": [
        "#Check the unique values which are returned by BMI Category\n",
        "\n",
        "print(df['BMI Category'].unique())"
      ],
      "metadata": {
        "id": "44K5tpHI7TwA"
      },
      "execution_count": null,
      "outputs": []
    },
    {
      "cell_type": "code",
      "source": [
        "#Check the unique values which are returned by Sleep Disorder\n",
        "\n",
        "print(df['Sleep Disorder'].unique())"
      ],
      "metadata": {
        "id": "gIb5ncK47gcf"
      },
      "execution_count": null,
      "outputs": []
    },
    {
      "cell_type": "markdown",
      "source": [
        "It looks like there are some entries in `Occupation` that we could condense here (ex. 'Software Engineer' --> 'Engineer'). Additionally, `BMI Category` needs to have 'Normal Weight' converted to 'Normal'. I think that this will help us to make more educated decisions later."
      ],
      "metadata": {
        "id": "wFGS2Hw96gAZ"
      }
    },
    {
      "cell_type": "code",
      "source": [
        "## 'Normal Weight' ---> 'Normal'\n",
        "\n",
        "df['BMI Category'] = df['BMI Category'].replace({'Normal Weight': 'Normal'})\n",
        "\n",
        "print(df['BMI Category'].unique())"
      ],
      "metadata": {
        "id": "czU2YYjX92hq"
      },
      "execution_count": null,
      "outputs": []
    },
    {
      "cell_type": "code",
      "source": [
        "\n",
        "## Occupation Conversions\n",
        "df['Occupation'] = df['Occupation'].replace({'Software Engineer': 'Engineer'})\n",
        "df['Occupation'] = df['Occupation'].replace({'Sales Representative': 'Salesperson'})\n",
        "\n",
        "print(df['Occupation'].unique())"
      ],
      "metadata": {
        "id": "jag4ahXh7AWa"
      },
      "execution_count": null,
      "outputs": []
    },
    {
      "cell_type": "code",
      "source": [
        "## Creating age category\n",
        "\n",
        "def age_category(row):\n",
        "    age = row['Age']\n",
        "    if age < 35:\n",
        "        return '25–34'\n",
        "    elif 35 <= age <= 44:\n",
        "        return '35–44'\n",
        "    elif 45 <= age <= 54:\n",
        "        return '45–54'\n",
        "    elif age >= 55:\n",
        "        return '55–64'\n",
        "    else:\n",
        "        return 'Unknown'\n",
        "\n",
        "## I did not know how to apply the logic to the df and add the column, so I asked Chat GPT\n",
        "\n",
        "df['Age Category'] = df.apply(age_category, axis=1)\n",
        "\n",
        "df.head()"
      ],
      "metadata": {
        "id": "cgNOvDONHJe0"
      },
      "execution_count": null,
      "outputs": []
    },
    {
      "cell_type": "markdown",
      "source": [
        "Next I would like to see if there are duplicates in the data. Since the ID column is unique, that should mean that there are no duplicates, but it is good to check."
      ],
      "metadata": {
        "id": "habjAk6iXrTU"
      }
    },
    {
      "cell_type": "code",
      "source": [
        "df.duplicated().sum()"
      ],
      "metadata": {
        "id": "qKEYfIpmXeNo"
      },
      "execution_count": null,
      "outputs": []
    },
    {
      "cell_type": "markdown",
      "source": [
        "### Explore Data\n",
        "\n"
      ],
      "metadata": {
        "id": "NpwiB0FmYB5r"
      }
    },
    {
      "cell_type": "code",
      "source": [
        "df.describe().round(2)"
      ],
      "metadata": {
        "id": "vQaBI6EtYMoj"
      },
      "execution_count": null,
      "outputs": []
    },
    {
      "cell_type": "markdown",
      "source": [
        "It looks like our mean age is 42, which is important to note because our findings might be different with different demographics. <br><br>\n",
        "\n",
        "It seems like the duration and quality of sleep are above the minimum standards. <br><br>\n",
        "\n",
        "The physical activity level is above average for what I was expecting. <br><br>\n",
        "\n",
        "---"
      ],
      "metadata": {
        "id": "TiZn0OE1HuIE"
      }
    },
    {
      "cell_type": "markdown",
      "source": [
        "#### **Stress Analysis**\n",
        "\n",
        "I wanted to look into factors which indicate stress levels and I came up with the following list:\n",
        "- Occupation\n",
        "- Stress Level\n",
        "- Heart Rate\n",
        "- Blood Pressure\n",
        "\n",
        "I wanted to put them all into a table to help me better understand how the data was distributed and what the averages were along occupational lines. I think that it is a good indicator of how we can group them since a lot of stress can come from work.<br><br>\n",
        "First, I wanted to split the `Blood Pressure` column into two seperate columns and then categorize them based on their results. Right now, the blood pressure column is classed as a string/object, so I cannot use that since the blood pressure is made up of two different components `Systolic` Pressure and `Diastolic` Pressure.<br><br>\n",
        "I based my categories off of the [AHA website](https://www.heart.org/en/health-topics/high-blood-pressure/understanding-blood-pressure-readings) and specifically this chart:\n",
        "\n",
        "![image.png](data:image/png;base64,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)"
      ],
      "metadata": {
        "id": "dmOaolOtE0nv"
      }
    },
    {
      "cell_type": "code",
      "source": [
        "# I did not know how to split a string into two columns, so I asked Chat GPT to show me how.\n",
        "\n",
        "# Split into two columns\n",
        "\n",
        "df[['Systolic', 'Diastolic']] = df['Blood Pressure'].str.split('/', expand=True).astype(int)\n",
        "\n",
        "# Categorize the Blood Pressure Reading\n",
        "\n",
        "def bp_category(row):\n",
        "    sys, dia = row['Systolic'], row['Diastolic']\n",
        "    if sys < 120 and dia < 80:\n",
        "        return 'Normal'\n",
        "    elif 120 <= sys <= 129 and dia < 80:\n",
        "        return 'Elevated'\n",
        "    elif (130 <= sys <= 139) or (80 <= dia <= 89):\n",
        "        return 'Stage 1 Hypertension'\n",
        "    elif sys >= 140 or dia >= 90:\n",
        "        return 'Stage 2 Hypertension'\n",
        "    elif sys > 180 or dia > 120:\n",
        "        return 'Hypertensive Emergency'\n",
        "    else:\n",
        "        return 'Unknown'\n",
        "\n",
        "## I did not know how to apply the logic to the df and add the column, so I asked Chat GPT\n",
        "\n",
        "df['BP Category'] = df.apply(bp_category, axis=1)\n",
        "\n",
        "df.head(10)"
      ],
      "metadata": {
        "id": "k8qsVCAIYph9"
      },
      "execution_count": null,
      "outputs": []
    },
    {
      "cell_type": "code",
      "source": [
        "# Next I am creating the table to show me how the occupations stack up against one another\n",
        "\n",
        "stress_summary = df.groupby('Occupation')[['Sleep Duration', 'Quality of Sleep','Stress Level','Heart Rate', 'Systolic', 'Diastolic']].mean().round(2)\n",
        "\n",
        "stress_summary['#'] = df['Occupation'].value_counts()\n",
        "stress_summary['% of Total'] = df['Occupation'].value_counts(normalize=True) * 100\n",
        "\n",
        "stress_summary = stress_summary.rename(columns={\n",
        "    'Stress Level': 'Avg Stress Level',\n",
        "    'Heart Rate': 'Avg Heart Rate',\n",
        "    'Sleep Duration': 'Avg. Sleep Duration',\n",
        "    'Quality of Sleep': 'Avg. Sleep Quality'\n",
        "})\n",
        "\n",
        "stress_summary['Avg. BP Category'] = stress_summary.apply(bp_category, axis=1)\n",
        "\n",
        "stress_summary = stress_summary[['#', '% of Total', 'Avg. Sleep Duration', 'Avg. Sleep Quality','Avg Stress Level', 'Avg Heart Rate', 'Systolic', 'Diastolic', 'Avg. BP Category']].round(2)\n",
        "\n",
        "stress_summary.head(11)"
      ],
      "metadata": {
        "id": "asRhRiV5Y9Dd"
      },
      "execution_count": null,
      "outputs": []
    },
    {
      "cell_type": "markdown",
      "source": [
        "It looks like a large proportion of the participants are in the healthcare field (~ 38%). I also find it interesting that most of the participants have an above average blood pressure, being in Stage 1 Hypertension.I also noticed that there are only 4 scientists and 1 Manager. So, there results may not be representative of the whole population. <br><br>\n",
        "\n",
        "I think that will definitely skew the results some, so that is something I will take note of. I am now curious to see the distribution of gender and age as well."
      ],
      "metadata": {
        "id": "-xHpIyirB8hx"
      }
    },
    {
      "cell_type": "code",
      "source": [
        "gender_summary = df.groupby('Gender')[['Sleep Duration', 'Quality of Sleep','Stress Level','Heart Rate', 'Systolic', 'Diastolic']].mean().round(2)\n",
        "\n",
        "gender_summary['#'] = df['Gender'].value_counts()\n",
        "gender_summary['% of Total'] = df['Gender'].value_counts(normalize=True) * 100\n",
        "\n",
        "gender_summary = gender_summary.rename(columns={\n",
        "    'Stress Level': 'Avg Stress Level',\n",
        "    'Heart Rate': 'Avg Heart Rate',\n",
        "    'Sleep Duration': 'Avg. Sleep Duration',\n",
        "    'Quality of Sleep': 'Avg. Sleep Quality'\n",
        "})\n",
        "\n",
        "gender_summary['Avg. BP Category'] = gender_summary.apply(bp_category, axis=1)\n",
        "\n",
        "gender_summary = gender_summary[['#', '% of Total', 'Avg. Sleep Duration', 'Avg. Sleep Quality','Avg Stress Level', 'Avg Heart Rate', 'Systolic', 'Diastolic', 'Avg. BP Category']].round(2)\n",
        "\n",
        "gender_summary.head(11)"
      ],
      "metadata": {
        "id": "5ctLuLU2EQcR"
      },
      "execution_count": null,
      "outputs": []
    },
    {
      "cell_type": "code",
      "source": [
        "Age_summary = df.groupby('Age Category')[['Sleep Duration', 'Quality of Sleep','Stress Level','Heart Rate', 'Systolic', 'Diastolic']].mean().round(2)\n",
        "\n",
        "Age_summary['#'] = df['Age Category'].value_counts()\n",
        "Age_summary['% of Total'] = df['Age Category'].value_counts(normalize=True) * 100\n",
        "\n",
        "Age_summary = Age_summary.rename(columns={\n",
        "    'Stress Level': 'Avg Stress Level',\n",
        "    'Heart Rate': 'Avg Heart Rate',\n",
        "    'Sleep Duration': 'Avg. Sleep Duration',\n",
        "    'Quality of Sleep': 'Avg. Sleep Quality'\n",
        "})\n",
        "\n",
        "Age_summary['Avg. BP Category'] = Age_summary.apply(bp_category, axis=1)\n",
        "\n",
        "Age_summary = Age_summary[['#', '% of Total', 'Avg. Sleep Duration', 'Avg. Sleep Quality','Avg Stress Level', 'Avg Heart Rate', 'Systolic', 'Diastolic', 'Avg. BP Category']].round(2)\n",
        "\n",
        "Age_summary.head(20)"
      ],
      "metadata": {
        "id": "e3DamHFZFY2x"
      },
      "execution_count": null,
      "outputs": []
    },
    {
      "cell_type": "markdown",
      "source": [
        "Gender looks slightly unequal, but not my much. It looks like we have a lot of 35-44 in our participants. I thinkthat will skew the results somewhat as well, so I will make note of that."
      ],
      "metadata": {
        "id": "zP3URNLJIEaS"
      }
    },
    {
      "cell_type": "markdown",
      "source": [
        "---\n",
        "<br>\n",
        "\n",
        "## Visualizations\n",
        "\n",
        "I wanted to be able to compare these different factors, so I needed to normalize these factors. Firstly, I decided that we should try to normalize the data on a scale of 1-10 since a few other factors use that scale. Next, I need to invert stress level since the other factors use the scale of 1-10 with 10 being overly positive.<br><br> Lastly, I have decided that blood pressure and heart rate would obscure the story being told and it would be difficult to force them into a 1-10 scale.\n",
        "\n"
      ],
      "metadata": {
        "id": "Z-_58fPoQqqK"
      }
    },
    {
      "cell_type": "code",
      "source": [
        "# Inverting Stress level\n",
        "\n",
        "## I am using 11 because the max is 10 and if we were to subtract it from 10, then it would become 0 and the scale would be off.\n",
        "\n",
        "df['Inverted Stress Level'] = 11 - df['Stress Level']\n",
        "\n",
        "# Normalizing Values\n",
        "\n",
        "## AI Acknowledgement: I did not know how to normalize values, so I asked ChatGPT to show me how to do it\n",
        "\n",
        "scaler = MinMaxScaler(feature_range=(1, 10))\n",
        "\n",
        "col_scale = ['Sleep Duration']\n",
        "\n",
        "df_scaled = df.copy()\n",
        "\n",
        "df_scaled[col_scale] = scaler.fit_transform(df_scaled[col_scale]).round(2)\n",
        "\n",
        "df_scaled.head(10)\n",
        "\n",
        "# Visualizing Stress Compared to Sleep\n",
        "\n",
        "stress_viz = df_scaled.groupby('Occupation')[['Sleep Duration', 'Quality of Sleep','Inverted Stress Level']].mean().round(2)\n",
        "\n",
        "stress_viz = stress_viz.sort_values(by='Quality of Sleep', ascending=False)\n",
        "\n",
        "plt.figure(figsize=(16, 6))\n",
        "plt.plot(stress_viz.index, stress_viz['Inverted Stress Level'], marker = 'o', color = 'green', label='Inverted Stress Level')\n",
        "plt.plot(stress_viz.index, stress_viz['Sleep Duration'], marker = 'o', color = 'pink', label='Sleep Duration')\n",
        "plt.plot(stress_viz.index, stress_viz['Quality of Sleep'], marker = 'o', color = 'purple', label='Quality of Sleep')\n",
        "\n",
        "plt.grid()\n",
        "plt.ylim(1,10)\n",
        "\n",
        "plt.title(\"Inverted Stress Level Compared to Sleep Duration and Quality by Occupation\")\n",
        "plt.xlabel(\"Occupation\")\n",
        "plt.ylabel(\"Scalar value\")\n",
        "plt.legend()\n",
        "plt.show()"
      ],
      "metadata": {
        "id": "4ZGfOiKRUeNV"
      },
      "execution_count": null,
      "outputs": []
    },
    {
      "cell_type": "markdown",
      "source": [
        "This is pretty interesting because we can see that there are some people who have better stress values, but I would like to see the correlations between them."
      ],
      "metadata": {
        "id": "jYwsglQYcFO1"
      }
    },
    {
      "cell_type": "code",
      "source": [
        "# Scaling for Correlation Testing\n",
        "\n",
        "## AI Acknowledgement: I did not know how to normalize values, so I asked ChatGPT to show me how to do it\n",
        "\n",
        "scaler = StandardScaler()\n",
        "df_scaled[col_scale] = scaler.fit_transform(df_scaled[col_scale]).round(2)\n",
        "\n",
        "df_scaled.head(10)\n",
        "\n",
        "# Vizualizing Heat Map\n",
        "\n",
        "## AI Acknowledgement: I did not know how to create a heat map, so I asked ChatGPT to show me how to do it\n",
        "\n",
        "plt.figure(figsize=(12, 12))\n",
        "correlation_matrix = stress_viz.corr(numeric_only=True)\n",
        "sns.heatmap(correlation_matrix, annot=True, cmap='coolwarm')\n",
        "plt.title(\"Correlation Heatmap of Inverted Stress Level, Sleep Duration, and Quality of Sleep\")\n",
        "plt.show()\n"
      ],
      "metadata": {
        "id": "58NLB8VmWESL"
      },
      "execution_count": null,
      "outputs": []
    },
    {
      "cell_type": "markdown",
      "source": [
        "It seems like the quality of sleep and the duration of sleep are strongly correlated, which is expected. It also looks like inverted stress and quality of sleep are strongly correlated as well! It seems like sleep duration and inverted stress are less strongly correlated, but there is still correlation there. <br><br>\n",
        "\n",
        "### **Physical Health Analysis**\n",
        "\n",
        "Next I would like to do investigate how the physical aspects relate to duration and quality of sleep. <br><br> I will be defining physical health aspects as:\n",
        "- `Physical Activity Level`\n",
        "- `BMI Category`\n",
        "- `Daily Steps`\n",
        "<br><br> To be able to compare `Physical Activity Level` and `Daily Steps`, I will need to scale them similar to how I did sleep duration."
      ],
      "metadata": {
        "id": "ps0Cdzw3jqNl"
      }
    },
    {
      "cell_type": "code",
      "source": [
        "# Create table for the Physical health attributes\n",
        "\n",
        "physical_summary = df.groupby('Occupation')[['Physical Activity Level', 'Daily Steps']].mean().round(2)\n",
        "\n",
        "physical_summary['#'] = df['Occupation'].value_counts()\n",
        "physical_summary['% of Total'] = df['Occupation'].value_counts(normalize=True) * 100\n",
        "\n",
        "# Add the most common BMI Category for each occupation\n",
        "\n",
        "## AI Acknowledgement: I did not know how to find the most common BMI Category, so I asked ChatGPT\n",
        "\n",
        "physical_summary['Most Common BMI Category'] = (\n",
        "    df.groupby('Occupation')['BMI Category']\n",
        "      .agg(lambda x: x.mode().iat[0] if not x.mode().empty else 'Unknown')\n",
        ")\n",
        "\n",
        "physical_summary = physical_summary[['#', '% of Total',\n",
        "                                     'Physical Activity Level',\n",
        "                                     'Daily Steps',\n",
        "                                     'Most Common BMI Category']].round(1)\n",
        "\n",
        "physical_summary.head(11)"
      ],
      "metadata": {
        "id": "F6ucQMSjsgWP"
      },
      "execution_count": null,
      "outputs": []
    },
    {
      "cell_type": "code",
      "source": [
        "scaler = MinMaxScaler(feature_range=(1, 10))\n",
        "df_scaled = df.copy()\n",
        "\n",
        "# Scale only numeric columns of interest (1–10 range)\n",
        "cols_to_scale = ['Physical Activity Level', 'Daily Steps', 'Sleep Duration']\n",
        "df_scaled[cols_to_scale] = scaler.fit_transform(df[cols_to_scale]).round(2)\n",
        "\n",
        "# Step 2: Group by Occupation and compute mean values\n",
        "activity_viz = df_scaled.groupby('Occupation')[['Physical Activity Level', 'Daily Steps', 'Sleep Duration', 'Quality of Sleep']].mean().round(2)\n",
        "\n",
        "activity_viz = activity_viz.sort_values(by='Quality of Sleep', ascending=False)\n",
        "\n",
        "# Step 3: Plot results\n",
        "plt.figure(figsize=(16, 6))\n",
        "\n",
        "plt.plot(activity_viz.index,\n",
        "         activity_viz['Daily Steps'],\n",
        "         marker='o', color='orange', label='Daily Steps')\n",
        "\n",
        "plt.plot(activity_viz.index,\n",
        "         activity_viz['Quality of Sleep'],\n",
        "         marker='o', color='red', label='Quality of Sleep')\n",
        "\n",
        "plt.plot(stress_viz.index, stress_viz['Sleep Duration'], marker = 'o', color = 'pink', label='Sleep Duration')\n",
        "\n",
        "# Step 4: Format the chart\n",
        "plt.grid(True, linestyle='--', alpha=0.6)\n",
        "plt.ylim(0, 10)\n",
        "plt.title(\"Activity Level, Daily Steps, and Quality of Sleep by Occupation (Scaled 0–10)\")\n",
        "plt.xlabel(\"Occupation\")\n",
        "plt.ylabel(\"Scaled Average (0–10)\")\n",
        "plt.legend()\n",
        "plt.tight_layout()\n",
        "plt.show()\n"
      ],
      "metadata": {
        "id": "hIbaIkqJszrd"
      },
      "execution_count": null,
      "outputs": []
    },
    {
      "cell_type": "code",
      "source": [
        "scaler = MinMaxScaler(feature_range=(1, 10))\n",
        "df_scaled = df.copy()\n",
        "\n",
        "# Scale only numeric columns of interest (1–10 range)\n",
        "cols_to_scale = ['Physical Activity Level', 'Daily Steps', 'Sleep Duration']\n",
        "df_scaled[cols_to_scale] = scaler.fit_transform(df[cols_to_scale]).round(2)\n",
        "\n",
        "# Step 2: Group by Occupation and compute mean values\n",
        "activity_viz = df_scaled.groupby('Occupation')[['Daily Steps', 'Sleep Duration', 'Quality of Sleep']].mean().round(2)\n",
        "\n",
        "activity_viz = activity_viz.sort_values(by='Quality of Sleep', ascending=False)\n",
        "\n",
        "# Step 3: Plot results\n",
        "plt.figure(figsize=(16, 6))\n",
        "\n",
        "plt.plot(activity_viz.index,\n",
        "         activity_viz['Daily Steps'],\n",
        "         marker='o', color='orange', label='Daily Steps')\n",
        "\n",
        "plt.plot(activity_viz.index,\n",
        "         activity_viz['Quality of Sleep'],\n",
        "         marker='o', color='red', label='Quality of Sleep')\n",
        "plt.plot(stress_viz.index, stress_viz['Sleep Duration'], marker = 'o', color = 'pink', label='Sleep Duration')\n",
        "\n",
        "# Step 4: Format the chart\n",
        "plt.grid(True, linestyle='--', alpha=0.6)\n",
        "plt.ylim(0, 10)\n",
        "plt.title(\"Activity Level, Daily Steps, and Quality of Sleep by Occupation (Scaled 0–10)\")\n",
        "plt.xlabel(\"Occupation\")\n",
        "plt.ylabel(\"Scaled Average (0–10)\")\n",
        "plt.legend()\n",
        "plt.tight_layout()\n",
        "plt.show()"
      ],
      "metadata": {
        "id": "HflwH-XvWC5D"
      },
      "execution_count": null,
      "outputs": []
    },
    {
      "cell_type": "code",
      "source": [
        "# Scaling for Correlation Testing\n",
        "\n",
        "## AI Acknowledgement: I did not know how to normalize values, so I asked ChatGPT to show me how to do it.\n",
        "\n",
        "from sklearn.preprocessing import StandardScaler\n",
        "import pandas as pd\n",
        "import seaborn as sns\n",
        "import matplotlib.pyplot as plt\n",
        "\n",
        "df_scaled = df.copy()\n",
        "col_scale = ['Daily Steps', 'Physical Activity Level', 'Sleep Duration', 'Quality of Sleep']\n",
        "scaler = StandardScaler()\n",
        "df_scaled[col_scale] = scaler.fit_transform(df_scaled[col_scale]).round(2)\n",
        "\n",
        "activity_viz = (\n",
        "    df_scaled\n",
        "    .groupby('Occupation')[['Daily Steps', 'Physical Activity Level', 'Sleep Duration', 'Quality of Sleep']]\n",
        "    .mean()\n",
        "    .round(2)\n",
        ")\n",
        "\n",
        "activity_viz = activity_viz.sort_values(by='Quality of Sleep', ascending=False)\n",
        "\n",
        "# Visualizing Heat Map\n",
        "\n",
        "## AI Acknowledgement: I did not know how to create a heat map, so I asked ChatGPT to show me how to do it.\n",
        "\n",
        "plt.figure(figsize=(8, 6))\n",
        "correlation_matrix = activity_viz.corr()\n",
        "\n",
        "sns.heatmap(\n",
        "    correlation_matrix,\n",
        "    annot=True,\n",
        "    cmap='coolwarm',\n",
        "    center=0,\n",
        "    linewidths=0.5\n",
        ")\n",
        "\n",
        "plt.title(\"Correlation Heatmap: Daily Steps, Activity Level, Sleep Duration, and Quality of Sleep\")\n",
        "plt.show()\n"
      ],
      "metadata": {
        "id": "zpSlaycZV5Ob"
      },
      "execution_count": null,
      "outputs": []
    },
    {
      "cell_type": "markdown",
      "source": [
        "Obviously, there is a strong correlation between the `Physical Activity Level` and `Daily Steps` and `Sleep Duration` and `Quality of Sleep`. These are expected.\n",
        "\n",
        "It looks like there is a moderate positive correlation between `Sleep Duration` and `Physical Activity Level`. Being more physically active is generally associated with being able to sleep longer. There is a slightly stronger correlation with `Sleep Quality` and Physical Activity level.\n",
        "\n",
        "There is a weaker correlation between `Daily Steps` and `Sleep Duration`. `Daily Steps` still has a moderate correlation with `Sleep Quality` though."
      ],
      "metadata": {
        "id": "rSffZNqYqwYs"
      }
    },
    {
      "cell_type": "code",
      "source": [
        "bmi_viz = (\n",
        "    df.groupby('BMI Category')[['Quality of Sleep', 'Sleep Duration']]\n",
        "      .mean()\n",
        "      .round(2)\n",
        ")\n",
        "\n",
        "plt.figure(figsize=(10, 6))\n",
        "\n",
        "bar_width = 0.35\n",
        "x = range(len(bmi_viz))\n",
        "\n",
        "plt.bar(\n",
        "    [p - bar_width/2 for p in x],\n",
        "    bmi_viz['Quality of Sleep'],\n",
        "    width=bar_width,\n",
        "    label='Quality of Sleep',\n",
        "    color='purple'\n",
        ")\n",
        "\n",
        "plt.bar(\n",
        "    [p + bar_width/2 for p in x],\n",
        "    bmi_viz['Sleep Duration'],\n",
        "    width=bar_width,\n",
        "    label='Sleep Duration',\n",
        "    color='pink'\n",
        ")\n",
        "\n",
        "plt.xticks(x, bmi_viz.index)\n",
        "plt.title('Comparison of Sleep Quality and Sleep Duration by BMI Category', fontweight='bold')\n",
        "plt.xlabel('BMI Category', fontweight='bold')\n",
        "plt.ylabel('Average Value', fontweight='bold')\n",
        "plt.legend()\n",
        "plt.grid(axis='y', linestyle='--', alpha=0.7)\n",
        "plt.tight_layout()\n",
        "plt.show()"
      ],
      "metadata": {
        "id": "iHuXwkyubPRP"
      },
      "execution_count": null,
      "outputs": []
    },
    {
      "cell_type": "markdown",
      "source": [
        "I am curious to see how many of the applicants have sleep disorders by BMI, so I decided to investigate and visualize it."
      ],
      "metadata": {
        "id": "Qha87wC9crKk"
      }
    },
    {
      "cell_type": "code",
      "source": [
        "# Count how many people in each BMI category have each type of sleep disorder\n",
        "bmi_disorder_counts = pd.crosstab(df['BMI Category'], df['Sleep Disorder'])\n",
        "bmi_disorder_percent = pd.crosstab(df['BMI Category'], df['Sleep Disorder'], normalize='index') * 100\n",
        "bmi_disorder_percent = bmi_disorder_percent.round(2)\n",
        "\n",
        "\n",
        "\n",
        "print(bmi_disorder_counts)\n",
        "\n",
        "print(bmi_disorder_percent)\n"
      ],
      "metadata": {
        "id": "QKg-zrkjcakP"
      },
      "execution_count": null,
      "outputs": []
    },
    {
      "cell_type": "code",
      "source": [
        "# Visualize it using a stacked bar chart\n",
        "\n",
        "bmi_disorder_counts.plot(kind='bar', stacked=True, figsize=(10, 6), color= sleep_palette[:3])\n",
        "plt.title('Sleep Disorder Distribution by BMI Category', fontweight='bold')\n",
        "plt.xlabel('BMI Category', fontweight='bold')\n",
        "plt.ylabel('Number of Applicants', fontweight='bold')\n",
        "plt.legend(title='Sleep Disorder')\n",
        "plt.grid(axis='y', linestyle='--', alpha=0.5)\n",
        "plt.tight_layout()\n",
        "plt.show()"
      ],
      "metadata": {
        "id": "n9gx6hLndffh"
      },
      "execution_count": null,
      "outputs": []
    },
    {
      "cell_type": "markdown",
      "source": [
        "# ADD FINDINGS HERE LATER"
      ],
      "metadata": {
        "id": "4YJ2gdYqgEQc"
      }
    },
    {
      "cell_type": "code",
      "source": [
        "df['Physical Activity Level'].max()"
      ],
      "metadata": {
        "id": "QNa860ziZKuW"
      },
      "execution_count": null,
      "outputs": []
    },
    {
      "cell_type": "markdown",
      "source": [
        "### NOTE FOR YOU LATER\n",
        "\n",
        "- See how many applicants with BMI categories have sleep disorders\n"
      ],
      "metadata": {
        "id": "OEgPadZvZdy3"
      }
    },
    {
      "cell_type": "code",
      "source": [
        "plt.figure(figsize=(8, 2))\n",
        "for i, color in enumerate(sleep_palette):\n",
        "    plt.fill_between([i, i + 1], 0, 1, color=color)\n",
        "    plt.text(i + 0.5, -0.1, color, ha='center', va='top', fontsize=10, fontweight='bold')\n",
        "plt.xlim(0, len(sleep_palette))\n",
        "plt.axis('off')\n",
        "plt.title(\"Custom Sleep Study Color Palette (Purples & Blues)\", fontweight='bold')\n",
        "plt.show()"
      ],
      "metadata": {
        "id": "ODxec_HMfXqp"
      },
      "execution_count": null,
      "outputs": []
    }
  ]
}