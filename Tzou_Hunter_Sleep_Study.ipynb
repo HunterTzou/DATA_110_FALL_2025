{
  "nbformat": 4,
  "nbformat_minor": 0,
  "metadata": {
    "colab": {
      "provenance": [],
      "authorship_tag": "ABX9TyMfLTCD003OIXbVmnx8IDBG",
      "include_colab_link": true
    },
    "kernelspec": {
      "name": "python3",
      "display_name": "Python 3"
    },
    "language_info": {
      "name": "python"
    }
  },
  "cells": [
    {
      "cell_type": "markdown",
      "metadata": {
        "id": "view-in-github",
        "colab_type": "text"
      },
      "source": [
        "<a href=\"https://colab.research.google.com/github/Zhouhun/DATA_110_FALL_2025/blob/main/Tzou_Hunter_Sleep_Study.ipynb\" target=\"_parent\"><img src=\"https://colab.research.google.com/assets/colab-badge.svg\" alt=\"Open In Colab\"/></a>"
      ]
    },
    {
      "cell_type": "code",
      "execution_count": null,
      "metadata": {
        "id": "p_fwmwJWG5b6"
      },
      "outputs": [],
      "source": [
        "import pandas as pd\n",
        "import numpy as np\n",
        "import seaborn as sns\n",
        "import matplotlib.pyplot as plt\n",
        "\n",
        "df <- pd.read_csv('data/train.csv')"
      ]
    },
    {
      "cell_type": "markdown",
      "source": [
        "## Data Set Introduction\n",
        "\n",
        "This data set was picked from [Kaggle](https://www.kaggle.com/datasets/uom190346a/sleep-health-and-lifestyle-dataset/data). I picked this dataset because I am interested in sleep studies and how different health and lifestlye vairables can affect sleep quality. I also saw that this data set had enough depth for me to use for this project.\n",
        "\n",
        "### Data Dictionary\n",
        "\n",
        "### Sleep Health and Lifestyle Dataset — Data Dictionary\n",
        "\n",
        "| **Column Name** | **Description** |\n",
        "|------------------|-----------------|\n",
        "| `Person ID` | Unique identifier for each individual. |\n",
        "| `Gender` | Gender of the person (`Male` or `Female`). |\n",
        "| `Age` | Age of the person in years. |\n",
        "| `Occupation` | Occupation or profession of the person. |\n",
        "| `Sleep Duration (hours)` | Number of hours the person sleeps per day. |\n",
        "| `Quality of Sleep (scale: 1-10)` | Subjective rating of sleep quality, ranging from 1 (poor) to 10 (excellent). |\n",
        "| `Physical Activity Level (minutes/day)` | Number of minutes the person engages in physical activity daily. |\n",
        "| `Stress Level (scale: 1-10)` | Subjective rating of stress level, ranging from 1 (low) to 10 (high). |\n",
        "| `BMI Category` | Body Mass Index category (`Underweight`, `Normal`, `Overweight`). |\n",
        "| `Blood Pressure (systolic/diastolic)` | Blood pressure measurement in systolic/diastolic format (e.g., 120/80). |\n",
        "| `Heart Rate (bpm)` | Resting heart rate of the person, measured in beats per minute. |\n",
        "| `Daily Steps` | Number of steps the person takes per day. |\n",
        "| `Sleep Disorder` | Indicates whether the person has a sleep disorder (`None`, `Insomnia`, `Sleep Apnea`). [^1] |\n",
        "\n",
        "[^1]: dwdw\n",
        "\n",
        "---\n",
        "\n",
        "## Purpose\n",
        "\n",
        "My goal with this project is to be able to analyze the different variables affect sleep. I have picked the following to be able to narrow down the search somewhat."
      ],
      "metadata": {
        "id": "d83gcJ8iJZ_6"
      }
    },
    {
      "cell_type": "markdown",
      "source": [
        "## EDA"
      ],
      "metadata": {
        "id": "gLn_9XmPIqL1"
      }
    },
    {
      "cell_type": "code",
      "source": [],
      "metadata": {
        "id": "sd9RaEFTIwQj"
      },
      "execution_count": null,
      "outputs": []
    }
  ]
}