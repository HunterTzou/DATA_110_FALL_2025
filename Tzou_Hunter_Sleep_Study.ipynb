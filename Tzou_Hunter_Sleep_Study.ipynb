{
  "nbformat": 4,
  "nbformat_minor": 0,
  "metadata": {
    "colab": {
      "provenance": [],
      "authorship_tag": "ABX9TyMLbgBjpgDLoIBuTroz6lMe",
      "include_colab_link": true
    },
    "kernelspec": {
      "name": "python3",
      "display_name": "Python 3"
    },
    "language_info": {
      "name": "python"
    }
  },
  "cells": [
    {
      "cell_type": "markdown",
      "metadata": {
        "id": "view-in-github",
        "colab_type": "text"
      },
      "source": [
        "<a href=\"https://colab.research.google.com/github/Zhouhun/DATA_110_FALL_2025/blob/main/Tzou_Hunter_Sleep_Study.ipynb\" target=\"_parent\"><img src=\"https://colab.research.google.com/assets/colab-badge.svg\" alt=\"Open In Colab\"/></a>"
      ]
    },
    {
      "cell_type": "code",
      "execution_count": null,
      "metadata": {
        "id": "p_fwmwJWG5b6"
      },
      "outputs": [],
      "source": [
        "import pandas as pd\n",
        "import numpy as np\n",
        "import seaborn as sns\n",
        "import matplotlib.pyplot as plt\n",
        "\n",
        "df <- pd.read_csv('data/train.csv')"
      ]
    },
    {
      "cell_type": "markdown",
      "source": [
        "## Data Set Introduction\n",
        "\n",
        "This data set was picked from [Kaggle](https://www.kaggle.com/datasets/uom190346a/sleep-health-and-lifestyle-dataset/data). I picked this dataset because I am interested in sleep studies and how different health and lifestlye vairables can affect sleep quality. I also saw that this data set had enough depth for me to use for this project\n",
        "\n",
        "## Purpose\n",
        "\n"
      ],
      "metadata": {
        "id": "d83gcJ8iJZ_6"
      }
    },
    {
      "cell_type": "markdown",
      "source": [
        "## EDA"
      ],
      "metadata": {
        "id": "gLn_9XmPIqL1"
      }
    },
    {
      "cell_type": "code",
      "source": [],
      "metadata": {
        "id": "sd9RaEFTIwQj"
      },
      "execution_count": null,
      "outputs": []
    }
  ]
}